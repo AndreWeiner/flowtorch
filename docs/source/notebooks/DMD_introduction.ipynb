{
 "cells": [
  {
   "cell_type": "markdown",
   "metadata": {},
   "source": [
    "# An Introduction to Dynamic Mode Decomposition (DMD)\n",
    "\n",
    "notebook based on exercise 9 of the data post-processing lecture\n",
    "\n",
    "> \"Given enough data, you find that there are dominant emergent patterns.\""
   ]
  },
  {
   "cell_type": "markdown",
   "metadata": {},
   "source": [
    "## Goal:\n",
    "\n",
    "Approximate the leading eigencomposition of (high dimensional) operator $A$. \n",
    "\n",
    "In other words, we want to find the dominant eigenvalues and eigenvectors without actually computing $A$.\n",
    "\n",
    "> The eigenvectors can be reshaped to eigen-flow fields, which are spacial temporal coherant modes that are simple dynamics\n",
    "(find quote from DMD book for this)\n",
    "-Steve Brunton"
   ]
  },
  {
   "cell_type": "markdown",
   "metadata": {},
   "source": [
    "## The DMD Ingredients:\n",
    "\n",
    "$n$ is the number of spatial points saved per shot and $m$ is the number of snapshots taken.\n",
    "\n",
    "- Snapshot of fluid flow (long and skinny) $X = \n",
    " \\begin{bmatrix}\n",
    "  \\vert & \\vert &     & \\vert \\\\\n",
    "  x_1   & x_2   & ... & x_{m-1} \\\\\n",
    "  \\vert & \\vert &     & \\vert\n",
    " \\end{bmatrix} \\in \\mathbb{C}^{n \\times (m-1)}$\n",
    "\n",
    "- Snapshot of fluid flow evolved by one unit in time $X' = \n",
    " \\begin{bmatrix}\n",
    "  \\vert & \\vert &     & \\vert \\\\\n",
    "  x_2   & x_3   & ... & x_{m} \\\\\n",
    "  \\vert & \\vert &     & \\vert\n",
    " \\end{bmatrix} \\in \\mathbb{C}^{n \\times (m-1)}$\n",
    "\n",
    "- Linear operator $A$ where $X'=AX$\n",
    "\n",
    "- $U \\in \\mathbb{C}^{n \\times m}$ (truncated $U^* \\in \\mathbb{C}^{n \\times r}$)\n",
    "\n",
    "- $\\Sigma \\in \\mathbb{C}^{m\\times m}$ (truncated $\\Sigma^* \\in \\mathbb{C}^{r\\times r}$)\n",
    "\n",
    "- $V \\in \\mathbb{C}^{m\\times m}$ (truncated $V \\in \\mathbb{C}^{m\\times r}$)\n",
    "\n",
    "idk if dims are right."
   ]
  },
  {
   "cell_type": "markdown",
   "metadata": {},
   "source": [
    "## The DMD Recipe:\n",
    "\n",
    "**1. Compute Singular Value Decomposition (SVD) of big data matrix $X$ to find the dominant coherent structures (Columns of $U$).**\n",
    "\n",
    "$$ X = U\\Sigma V^* $$\n",
    "\n",
    "The exact SVD can be reduced to an economy SVD if, for example, 99% of the system energy is captured by the first $r$ comumns of $U$. The * denotes the conjugate transpose.\n",
    "\n",
    "**2. Project $A$ on the dominant singular vectors $U^*$ and $U$ to get the reduced dynamic operator $\\tilde{A}$**\n",
    "\n",
    "$$U^*X'V\\Sigma^{-1} = U^*AU = \\tilde{A}$$\n",
    "\n",
    "We do not calculate $A$ using $ X' = AU\\Sigma V^* $ because this would be too demanding. $\\tilde{A}$, which is only of the magnitude of time, is a linear best fit dynamical system, that tell you how your POD modes evolve over time.\n",
    "\n",
    "**3. Compute the eigenvalues $\\Lambda$ and eigenvectors $W$ of $\\tilde{A}$**\n",
    "\n",
    "$$\\tilde{A}W = W\\Lambda$$\n",
    "\n",
    "$\\tilde{A}$ has the same non-zero *eigenvalues* as $A$.\n",
    "\n",
    "**4. Compute the eigenvectors $\\Phi$ of $A$**\n",
    "\n",
    "$\\Phi = X'V\\Sigma^{-1}W$\n",
    "\n",
    "Also called modes."
   ]
  },
  {
   "cell_type": "markdown",
   "metadata": {},
   "source": [
    "## Now what?\n",
    "\n",
    "With our (spacial) modes $\\Phi$ and (temporal) eigenvalues $\\Lambda$, we can predict what the system will do in the future.\n",
    "\n",
    "$$\\hat{X}(k\\Delta t) = \\Phi\\Lambda^kb_0$$\n",
    "\n",
    "$\\hat{X}$ is a future state prediction of $X$.\n",
    "\n",
    "$\\Lambda^k$ advances one time increment $\\Delta t$ with each $k$.\n",
    "\n",
    "$b_0$ is amplitude of modes. Condition for how much each mode is expressed in the data."
   ]
  },
  {
   "cell_type": "markdown",
   "metadata": {},
   "source": [
    "## Questions:\n",
    "\n",
    "Is the difference between $\\hat{X}$ and $X'$ just that $\\hat{X}$ is the predicted future state and $X'$ is the actual future state? If yes, would element $x_m$ in $X'$ be used to validate $\\hat{X}$?"
   ]
  },
  {
   "cell_type": "code",
   "execution_count": null,
   "metadata": {},
   "outputs": [],
   "source": []
  }
 ],
 "metadata": {
  "kernelspec": {
   "display_name": "Python 3",
   "language": "python",
   "name": "python3"
  },
  "language_info": {
   "codemirror_mode": {
    "name": "ipython",
    "version": 3
   },
   "file_extension": ".py",
   "mimetype": "text/x-python",
   "name": "python",
   "nbconvert_exporter": "python",
   "pygments_lexer": "ipython3",
   "version": "3.8.5"
  }
 },
 "nbformat": 4,
 "nbformat_minor": 4
}
