{
 "cells": [
  {
   "cell_type": "markdown",
   "metadata": {},
   "source": [
    "# Linear algebra basics\n",
    "\n",
    "This notebook provides in introduction to essential elements of linear algebra needed to understand the dimensionality reduction algorithms performed by *flowTorch*.\n",
    "\n",
    "## Multiplication\n",
    "### Matrix-vector multiplication\n",
    "### Matrix-matrix multiplication\n",
    "\n",
    "## Special types of matrices\n",
    "### Identity matrix\n",
    "### Orthogonal matrix\n",
    "### Orthonormal matrix\n",
    "### Unitary matrix\n",
    "\n",
    "## Eigen-decomposition\n",
    "### ...\n",
    "### Application to linear operators\n",
    "\n",
    "## Singular value decomposition\n",
    "### ...\n",
    "### Low-rank approximation\n",
    "### Least-squares approximation\n",
    "### Connection so Eigen-decomposition"
   ]
  },
  {
   "cell_type": "code",
   "execution_count": 56,
   "metadata": {},
   "outputs": [
    {
     "name": "stdout",
     "output_type": "stream",
     "text": [
      "[[  6 -10  27]\n",
      " [ 14  18  27]\n",
      " [  4  12  36]]\n"
     ]
    }
   ],
   "source": [
    "import numpy as np\n",
    "\n",
    "A= np.array([[3, -5, 3],\n",
    "            \n",
    "            [7,9,3],\n",
    "            \n",
    "            [2,6,4]])\n",
    "\n",
    "B= np.array([2, 2, 9])\n",
    "\n",
    "c=A*B\n",
    "\n",
    "print(c)"
   ]
  }
 ],
 "metadata": {
  "kernelspec": {
   "display_name": "Python 3",
   "language": "python",
   "name": "python3"
  },
  "language_info": {
   "codemirror_mode": {
    "name": "ipython",
    "version": 3
   },
   "file_extension": ".py",
   "mimetype": "text/x-python",
   "name": "python",
   "nbconvert_exporter": "python",
   "pygments_lexer": "ipython3",
   "version": "3.8.5"
  }
 },
 "nbformat": 4,
 "nbformat_minor": 4
}
