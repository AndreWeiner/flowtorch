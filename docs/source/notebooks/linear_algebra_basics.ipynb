{
 "cells": [
  {
   "cell_type": "markdown",
   "metadata": {},
   "source": [
    "# Linear algebra and tensor basics\n",
    "\n",
    "This notebook provides in introduction to essential elements of linear algebra and PyTorch tensors needed to understand the dimensionality reduction algorithms performed by *flowTorch*."
   ]
  },
  {
   "cell_type": "code",
   "execution_count": 1,
   "metadata": {},
   "outputs": [],
   "source": [
    "import torch as pt\n",
    "import visualization as vis"
   ]
  },
  {
   "cell_type": "markdown",
   "metadata": {},
   "source": [
    "## PyTorch Tensors\n",
    "\n",
    "PyTorch provides a [tensor](https://pytorch.org/docs/stable/tensors.html) type to define n-dimensional arrays. Each element in a tensor must be of the same type. Working with PyTorch tensors has a very similar look and feel as working with Numpy arrays. flowTorch uses PyTorch tensors as data structure for field data.\n",
    "\n",
    "### Creating Tensors"
   ]
  },
  {
   "cell_type": "code",
   "execution_count": 27,
   "metadata": {},
   "outputs": [
    {
     "data": {
      "text/plain": [
       "tensor([0., 0., 0., 0., 0., 0., 0., 0., 0., 0.])"
      ]
     },
     "execution_count": 27,
     "metadata": {},
     "output_type": "execute_result"
    }
   ],
   "source": [
    "# creating a vector of length 10 initialized with zeros\n",
    "origin = pt.zeros(10)\n",
    "origin"
   ]
  },
  {
   "cell_type": "code",
   "execution_count": 3,
   "metadata": {},
   "outputs": [
    {
     "name": "stdout",
     "output_type": "stream",
     "text": [
      "Dimension:  torch.Size([10])\n",
      "Datatype:  torch.float32\n"
     ]
    }
   ],
   "source": [
    "# the two most important tensor attributes: size and dtype\n",
    "print(\"Dimension: \", origin.size())\n",
    "print(\"Datatype: \", origin.dtype)"
   ]
  },
  {
   "cell_type": "code",
   "execution_count": 4,
   "metadata": {},
   "outputs": [
    {
     "data": {
      "text/plain": [
       "tensor([[1., 1.],\n",
       "        [1., 1.],\n",
       "        [1., 1.]])"
      ]
     },
     "execution_count": 4,
     "metadata": {},
     "output_type": "execute_result"
    }
   ],
   "source": [
    "# create a 2D tensor with 3 rows and two columns filled with ones\n",
    "ones = pt.ones((3, 2))\n",
    "ones"
   ]
  },
  {
   "cell_type": "code",
   "execution_count": 5,
   "metadata": {
    "collapsed": true,
    "jupyter": {
     "outputs_hidden": true
    }
   },
   "outputs": [
    {
     "data": {
      "text/plain": [
       "tensor([ 0.0000,  2.5000,  5.0000,  7.5000, 10.0000])"
      ]
     },
     "execution_count": 5,
     "metadata": {},
     "output_type": "execute_result"
    }
   ],
   "source": [
    "# 1D tensor with 5 linearly spaced values between zero and ten\n",
    "x = pt.linspace(0, 10, 5)\n",
    "x"
   ]
  },
  {
   "cell_type": "code",
   "execution_count": 6,
   "metadata": {},
   "outputs": [
    {
     "name": "stdout",
     "output_type": "stream",
     "text": [
      "Created tensor of shape  torch.Size([4, 3])\n"
     ]
    },
    {
     "data": {
      "text/plain": [
       "tensor([[ 0,  1,  2],\n",
       "        [ 3,  4,  5],\n",
       "        [ 6,  7,  8],\n",
       "        [ 9, 10, 11]])"
      ]
     },
     "execution_count": 6,
     "metadata": {},
     "output_type": "execute_result"
    }
   ],
   "source": [
    "# creating a tensor from a Python list\n",
    "X_list = [\n",
    "    [0, 1, 2],\n",
    "    [3, 4, 5],\n",
    "    [6, 7, 8],\n",
    "    [9, 10, 11]\n",
    "]\n",
    "X = pt.tensor(X_list)\n",
    "print(\"Created tensor of shape \", X.size())\n",
    "X"
   ]
  },
  {
   "cell_type": "markdown",
   "metadata": {},
   "source": [
    "### Accessing elements in a tensor\n",
    "\n",
    "PyTorch tensor support element access via the typical square bracket syntax. Also slicing is supported."
   ]
  },
  {
   "cell_type": "code",
   "execution_count": 7,
   "metadata": {},
   "outputs": [
    {
     "data": {
      "text/plain": [
       "tensor(11)"
      ]
     },
     "execution_count": 7,
     "metadata": {},
     "output_type": "execute_result"
    }
   ],
   "source": [
    "# accessing the element in the fourth row and thrid column\n",
    "X[3, 2]"
   ]
  },
  {
   "cell_type": "code",
   "execution_count": 8,
   "metadata": {},
   "outputs": [
    {
     "data": {
      "text/plain": [
       "tensor([0, 3, 6, 9])"
      ]
     },
     "execution_count": 8,
     "metadata": {},
     "output_type": "execute_result"
    }
   ],
   "source": [
    "# accessing the first column\n",
    "X[:, 0]"
   ]
  },
  {
   "cell_type": "code",
   "execution_count": 9,
   "metadata": {},
   "outputs": [
    {
     "data": {
      "text/plain": [
       "tensor([3, 4, 5])"
      ]
     },
     "execution_count": 9,
     "metadata": {},
     "output_type": "execute_result"
    }
   ],
   "source": [
    "# accessing the second row\n",
    "X[1]"
   ]
  },
  {
   "cell_type": "code",
   "execution_count": 25,
   "metadata": {},
   "outputs": [
    {
     "name": "stdout",
     "output_type": "stream",
     "text": [
      "Created tensor of shape  torch.Size([4, 3])\n"
     ]
    },
    {
     "data": {
      "text/plain": [
       "tensor([1, 4])"
      ]
     },
     "execution_count": 25,
     "metadata": {},
     "output_type": "execute_result"
    }
   ],
   "source": [
    "# accessing the first two elements in the second column\n",
    "print(\"Created tensor of shape \", X.size())\n",
    "X\n",
    "X[:2, 1]"
   ]
  },
  {
   "cell_type": "code",
   "execution_count": 22,
   "metadata": {},
   "outputs": [
    {
     "data": {
      "text/plain": [
       "tensor([7, 8])"
      ]
     },
     "execution_count": 22,
     "metadata": {},
     "output_type": "execute_result"
    }
   ],
   "source": [
    "# accessing the last two column of the thrid row\n",
    "X[2, -2:]"
   ]
  },
  {
   "cell_type": "markdown",
   "metadata": {},
   "source": [
    "### Basic tensor operations"
   ]
  },
  {
   "cell_type": "code",
   "execution_count": 12,
   "metadata": {},
   "outputs": [
    {
     "data": {
      "text/plain": [
       "tensor([[2., 2., 2.],\n",
       "        [2., 2., 2.]])"
      ]
     },
     "execution_count": 12,
     "metadata": {},
     "output_type": "execute_result"
    }
   ],
   "source": [
    "# elementwise addition of a scalar value\n",
    "X = pt.zeros((2, 3))\n",
    "X += 2\n",
    "X"
   ]
  },
  {
   "cell_type": "code",
   "execution_count": 13,
   "metadata": {},
   "outputs": [
    {
     "data": {
      "text/plain": [
       "tensor([[4., 4., 4.],\n",
       "        [4., 4., 4.]])"
      ]
     },
     "execution_count": 13,
     "metadata": {},
     "output_type": "execute_result"
    }
   ],
   "source": [
    "# elementwise multiplication with a scalar value\n",
    "Y = X * 2\n",
    "Y"
   ]
  },
  {
   "cell_type": "code",
   "execution_count": 14,
   "metadata": {},
   "outputs": [
    {
     "data": {
      "text/plain": [
       "tensor([[-2., -2., -2.],\n",
       "        [-2., -2., -2.]])"
      ]
     },
     "execution_count": 14,
     "metadata": {},
     "output_type": "execute_result"
    }
   ],
   "source": [
    "# elementwise subtraction of two tensors with the same shape\n",
    "X - Y"
   ]
  },
  {
   "cell_type": "code",
   "execution_count": 15,
   "metadata": {},
   "outputs": [
    {
     "data": {
      "text/plain": [
       "tensor([[8., 8., 8.],\n",
       "        [8., 8., 8.]])"
      ]
     },
     "execution_count": 15,
     "metadata": {},
     "output_type": "execute_result"
    }
   ],
   "source": [
    "# elementwise multiplication of two tensors with the same shape\n",
    "X * Y"
   ]
  },
  {
   "cell_type": "code",
   "execution_count": 77,
   "metadata": {},
   "outputs": [
    {
     "name": "stdout",
     "output_type": "stream",
     "text": [
      "Shape of 1D tensor:  torch.Size([1, 3])\n"
     ]
    },
    {
     "data": {
      "text/plain": [
       "tensor([[-1.,  1.,  3.],\n",
       "        [ 5.,  7.,  9.],\n",
       "        [11., 13., 15.],\n",
       "        [17., 19., 21.]])"
      ]
     },
     "execution_count": 77,
     "metadata": {},
     "output_type": "execute_result"
    }
   ],
   "source": [
    "# subtracting a 1D tensor from each row\n",
    "ones = pt.ones((1, Y.size()[1]))\n",
    "print(\"Shape of 1D tensor: \", ones.size())\n",
    "Y - ones"
   ]
  },
  {
   "cell_type": "code",
   "execution_count": 17,
   "metadata": {},
   "outputs": [
    {
     "name": "stdout",
     "output_type": "stream",
     "text": [
      "Shape of 1D tensor:  torch.Size([2, 1])\n"
     ]
    },
    {
     "data": {
      "text/plain": [
       "tensor([[2., 2., 2.],\n",
       "        [2., 2., 2.]])"
      ]
     },
     "execution_count": 17,
     "metadata": {},
     "output_type": "execute_result"
    }
   ],
   "source": [
    "# subtracting a 1D tensor from each column\n",
    "twos = pt.ones((Y.size()[0]), 1) * 2\n",
    "print(\"Shape of 1D tensor: \", twos.size())\n",
    "Y - twos"
   ]
  },
  {
   "cell_type": "code",
   "execution_count": 18,
   "metadata": {},
   "outputs": [
    {
     "name": "stdout",
     "output_type": "stream",
     "text": [
      "Shape of Y/Y.T:  torch.Size([2, 3]) / torch.Size([3, 2])\n"
     ]
    },
    {
     "data": {
      "text/plain": [
       "tensor([[4., 4.],\n",
       "        [4., 4.],\n",
       "        [4., 4.]])"
      ]
     },
     "execution_count": 18,
     "metadata": {},
     "output_type": "execute_result"
    }
   ],
   "source": [
    "# transpose (swapping rows and columns in 2D)\n",
    "print(\"Shape of Y/Y.T: \", Y.size(), \"/\", Y.T.size())\n",
    "Y.T"
   ]
  },
  {
   "cell_type": "markdown",
   "metadata": {},
   "source": [
    "## Linear algebra basics\n",
    "### Scalar product\n",
    "\n",
    "The scalar or dot product between two vectors $\\mathbf{a}$ and $\\mathbf{b}$ of length $N$ is defined as:\n",
    "\n",
    "$$\n",
    "  \\langle \\mathbf{a}, \\mathbf{b} \\rangle := \\sum\\limits_{i=1}^{N} a_i b_i.\n",
    "$$\n",
    "The dot product has couple of useful properties; see section 1.2 in [Introduction to linear algebra](https://math.mit.edu/~gs/linearalgebra/).\n",
    "\n",
    "1) The dot product of a vector with itself is equal to the squared length/magnitude\n",
    "$ \\langle \\mathbf{a}, \\mathbf{a} \\rangle = \\left\\|\\mathbf{a}\\right\\|^2_2 $\n",
    "\n",
    "example: $\\mathbf{a} = (1, 2, 2)^T$; $\\langle \\mathbf{a}, \\mathbf{a} \\rangle = 1^2 + 2^2 + 2^2 = 9$"
   ]
  },
  {
   "cell_type": "code",
   "execution_count": 7,
   "metadata": {},
   "outputs": [
    {
     "data": {
      "text/plain": [
       "tensor(9.)"
      ]
     },
     "execution_count": 7,
     "metadata": {},
     "output_type": "execute_result"
    }
   ],
   "source": [
    "import torch as pt\n",
    "a = pt.tensor([1.0, 2.0, 2.0])\n",
    "# Frobenius/2-norm\n",
    "len_a = pt.norm(a)\n",
    "assert pt.dot(a, a) == len_a**2\n",
    "pt.dot(a, a)"
   ]
  },
  {
   "cell_type": "markdown",
   "metadata": {},
   "source": [
    "2) The angle between two normalized vectors is equal to the cosine of the enclosed angle: \n",
    "$$\n",
    "  {\\displaystyle \\varphi =\\arccos {\\frac {\\langle \\mathbf{a} ,{\\mathbf {b}\\rangle}}{|{\\mathbf {a}}||{\\mathbf {b}}|}}}\n",
    "$$\n",
    "\n",
    "example:$\\mathbf {a} = (1,1,1),\\mathbf {b} = (4,2,2) $ <br />\n",
    "        $|{\\mathbf {a}}|= {\\sqrt {{{1}^2}+{{1}^2}+{{1}^2}}} = 1,7321$ ,\n",
    "        $|{\\mathbf {b}}|= {\\sqrt {{{4}^2}+{{2}^2}+{{2}^2}}} = 4,8990$ ,\n",
    "        $\\langle \\mathbf{a}, \\mathbf{b} \\rangle = 1\\times4+1\\times2+1\\times2 = 8 $<br />\n",
    "        ${\\displaystyle \\varphi =\\arccos {\\frac {8}{1,7321\\times4,8990}=0.3398}}$\n",
    "\n",
    "\n"
   ]
  },
  {
   "cell_type": "code",
   "execution_count": 53,
   "metadata": {},
   "outputs": [
    {
     "data": {
      "text/plain": [
       "(tensor(0.9428), tensor(0.3398))"
      ]
     },
     "execution_count": 53,
     "metadata": {},
     "output_type": "execute_result"
    }
   ],
   "source": [
    "a = pt.tensor([1.0, 1.0, 1.0])\n",
    "b = pt.tensor([4.0, 2.0, 2.0])\n",
    "c = pt.dot(a, b)/(pt.norm(a)*pt.norm(b)) \n",
    "angle = pt.acos(c) # angle in radians\n",
    "c,angle"
   ]
  },
  {
   "cell_type": "markdown",
   "metadata": {},
   "source": [
    "3) To find a unit vector with the same direction as a given vector, we divide by the magnitude of the vector : <br />\n",
    "\n",
    "$$ {\\displaystyle u = {\\frac { \\mathbf{a} }{||{\\mathbf {a}}||}}}= {\\frac {[x,y,z]}{\\sqrt {{x}^{2}+{y}^{2}+{z}^{2}}}} $$ <br />\n",
    "\n",
    "example:<br />  All unit vectors have a magnitude of 1, so to verify we are correct: $ \\mathbf{a} = (3,6,1)  $ $,$ $ ||{\\mathbf {a}}|| = \\sqrt {46} $ <br />\n",
    "\n",
    "$||{\\mathbf {u}}||$ = ${\\sqrt {(\\frac {3}{\\sqrt {46}})^{2}+(\\frac {6}{\\sqrt {46} })^{2}+(\\frac {1}{\\sqrt {46} })^{2}}}$ = 1\n",
    "\n",
    "\n",
    "\n",
    "\n"
   ]
  },
  {
   "cell_type": "code",
   "execution_count": 50,
   "metadata": {},
   "outputs": [
    {
     "data": {
      "text/plain": [
       "tensor(1.0000)"
      ]
     },
     "execution_count": 50,
     "metadata": {},
     "output_type": "execute_result"
    }
   ],
   "source": [
    "a = pt.tensor([3.0, 6.0, 1.0])\n",
    "divisor = pt.norm(a)\n",
    "b = pt.div(a, divisor)\n",
    "a_lenght = pt.norm(b)\n",
    "a_lenght"
   ]
  },
  {
   "cell_type": "markdown",
   "metadata": {},
   "source": [
    "6) two vectors are orthogonal if and only if their dot product is zero :\n",
    "$${\\mathbf  {{a}}={\\begin{pmatrix}x_1\\\\0\\end{pmatrix}},\\quad{\\mathbf{b}}={\\begin{pmatrix}0\\\\x_2\\end{pmatrix}}}$$\n",
    "example: ${\\mathbf  {{a}}={\\begin{pmatrix}3\\\\0\\end{pmatrix}},\\quad {\\mathbf{b}}={\\begin{pmatrix}0\\\\2\\end{pmatrix}}}$ ,$\\quad$ ${\\displaystyle \\varphi =\\arccos {\\frac {{0}}{\\sqrt {2}\\times{\\sqrt {3}}}=90^{\\circ} }}$"
   ]
  },
  {
   "cell_type": "code",
   "execution_count": 4,
   "metadata": {},
   "outputs": [
    {
     "data": {
      "text/plain": [
       "tensor(90.)"
      ]
     },
     "execution_count": 4,
     "metadata": {},
     "output_type": "execute_result"
    }
   ],
   "source": [
    "a = pt.tensor([3.0, 0.0])\n",
    "b = pt.tensor([0.0, 2.0])\n",
    "c = pt.dot(a, b)/(pt.norm(a)*pt.norm(b)) \n",
    "d = pt.acos(c) \n",
    "angle = pt.rad2deg(d) # angle in degrees\n",
    "angle"
   ]
  },
  {
   "cell_type": "markdown",
   "metadata": {},
   "source": [
    "### Cross product\n",
    "The cross product is a vector operation that acts on vectors in three dimensions and results in another vector in three dimensions is defined as:\n",
    "\n",
    " $$  \\mathbf{a}\\times\\mathbf{b} = \\sum_{i,j,k=1}^3 \\varepsilon_{ijk} a_i b_j \\vec e_k\\,. $$ <br />\n",
    "\n",
    "\n",
    "\n",
    "\n",
    "1) The cross product of these two vectors :\n",
    "$$\n",
    "\\mathbf{a}=\\begin{pmatrix} a_1 \\\\ \\vdots \\\\a_n \\end{pmatrix} \\text{ and }\\mathbf{b}=\\begin{pmatrix} b_1 \\\\ \\vdots \\\\b_n \\end{pmatrix}\n",
    "$$\n",
    "would be given by the formula :\n",
    "\n",
    "$$\n",
    "  {\\mathbf{a}}\\times{\\mathbf{b}}=\\begin{pmatrix}a_1 \\\\ a_2 \\\\ a_3\\end{pmatrix}\\times\\begin{pmatrix}b_1 \\\\ b_2 \\\\ b_3 \\end{pmatrix}=\\begin{pmatrix}a_2b_3 - a_3b_2 \\\\a_3b_1 - a_1b_3 \\\\a_1b_2 - a_2b_1\\end{pmatrix}\\,.\n",
    "$$<br />\n",
    "\n",
    "example:\n",
    "$\n",
    "\\mathbf{a}=\\begin{pmatrix} 1 \\\\ 2 \\\\ 3 \\end{pmatrix} \\text{ , }\\mathbf{b}=\\begin{pmatrix} 3 \\\\ 2 \\\\ 1 \\end{pmatrix}\n",
    "$<br />\n",
    "\n",
    "${\\mathbf{a}}\\times{\\mathbf{b}}=\\begin{pmatrix}1 \\\\ 2 \\\\ 3 \\end{pmatrix}\\cdot\\begin{pmatrix}3 \\\\ 2 \\\\ 1 \\end{pmatrix}=\\begin{pmatrix}2\\cdot1 - 3\\cdot2 \\\\3\\cdot3 - 1\\cdot1 \\\\1\\cdot2 - 2\\cdot3\\end{pmatrix}\\,=\\begin{pmatrix}-4 \\\\ 8 \\\\ -4\\end{pmatrix}$\n",
    "\n"
   ]
  },
  {
   "cell_type": "code",
   "execution_count": 5,
   "metadata": {},
   "outputs": [
    {
     "data": {
      "text/plain": [
       "tensor([-4.,  8., -4.])"
      ]
     },
     "execution_count": 5,
     "metadata": {},
     "output_type": "execute_result"
    }
   ],
   "source": [
    "a = pt.tensor([1.0, 2.0, 3.0])\n",
    "b = pt.tensor([3.0, 2.0, 1.0])\n",
    "pt.cross(a, b)"
   ]
  },
  {
   "cell_type": "markdown",
   "metadata": {},
   "source": [
    "2) The cross product can also be expressed as the formal determinant:\n",
    "$$\n",
    "{\\displaystyle \\mathbf {a\\times b} ={\\begin{vmatrix}\\mathbf {i} &\\mathbf {j} &\\mathbf {k} \\\\a_{1}&a_{2}&a_{3}\\\\b_{1}&b_{2}&b_{3}\\\\\\end{vmatrix}}}\n",
    "$$\n",
    "This determinant can be computed using cofactor expansion.Using cofactor expansion, it expands to:\n",
    "$$\n",
    "{\\displaystyle {\\begin{aligned}\\mathbf {a\\times b} &={\\begin{vmatrix}a_{2}&a_{3}\\\\b_{2}&b_{3}\\end{vmatrix}}\\mathbf {i} -{\\begin{vmatrix}a_{1}&a_{3}\\\\b_{1}&b_{3}\\end{vmatrix}}\\mathbf {j} +{\\begin{vmatrix}a_{1}&a_{2}\\\\b_{1}&b_{2}\\end{vmatrix}}\\mathbf {k} \\\\&=(a_{2}b_{3}-a_{3}b_{2})\\mathbf {i} -(a_{1}b_{3}-a_{3}b_{1})\\mathbf {j} +(a_{1}b_{2}-a_{2}b_{1})\\mathbf {k} ,\\end{aligned}}}\n",
    "$$\n",
    "<br />\n",
    "Example: ${\\displaystyle \\mathbf {a\\times b} ={\\begin{vmatrix}  \\mathbf i& \\mathbf j& \\mathbf k \\\\4&-2&5\\\\2&8&7\\\\\\end{vmatrix}}}$\n",
    "${\\displaystyle {\\begin{aligned}={\\mathbf{i}\\begin{vmatrix}-2&5\\\\8&7\\end{vmatrix}} -{\\mathbf{j}\\begin{vmatrix}4&5\\\\2&7\\end{vmatrix}} +{\\mathbf{k}\\begin{vmatrix}4&-2\\\\2&8\\end{vmatrix}} =(-54)\\mathbf {i} -(18)\\mathbf {j} +(36)\\mathbf {k}\\end{aligned}}}$"
   ]
  },
  {
   "cell_type": "code",
   "execution_count": 6,
   "metadata": {},
   "outputs": [
    {
     "data": {
      "text/plain": [
       "tensor([-54., -18.,  36.])"
      ]
     },
     "execution_count": 6,
     "metadata": {},
     "output_type": "execute_result"
    }
   ],
   "source": [
    "a = pt.tensor([4.0, -2.0, 5.0]) \n",
    "b = pt.tensor([2.0, 8.0, 7.0])\n",
    "pt.cross(a, b)"
   ]
  },
  {
   "cell_type": "markdown",
   "metadata": {},
   "source": [
    "3)The Angle between two vectors using cross product:\n",
    "$${\\displaystyle \\varphi =\\arcsin {\\frac {| \\mathbf{a} \\times{\\mathbf {b}|}}{|{\\mathbf {a}}||{\\mathbf {b}}|}}}$$<br />\n",
    "\n",
    "example:$\\mathbf {a} = (1,-2,3),\\mathbf {b} = (-4,5,6) $ <br />\n",
    "        $|{\\mathbf {a}}|= {\\sqrt {{{1}^2}+{{-2}^2}+{{3}^2}}} = \\sqrt {14}$ ,\n",
    "        $|{\\mathbf {b}}|= {\\sqrt {{{-4}^2}+{{5}^2}+{{6}^2}}} = \\sqrt {77}$ ,<br />\n",
    "        $ {\\displaystyle \\mathbf {|a\\times b|} ={\\begin{vmatrix}  \\mathbf i& \\mathbf j& \\mathbf k \\\\1&-2&3\\\\-4&5&6\\\\\\end{vmatrix}}}$\n",
    "${\\displaystyle {\\begin{aligned} =(-27)\\mathbf {i} -(18)\\mathbf {j} +(-3)\\mathbf {k}={\\sqrt {{{(-27)}^2}+{{(-18)}^2}+{{(-3)}^2}}=3{\\sqrt{118}}}\\end{aligned}}}$<br />\n",
    "        ${\\displaystyle \\varphi =\\arccos {\\frac {3\\sqrt{118}}{\\sqrt {14}\\times\\sqrt {77}}=83.0023^°}}$\n"
   ]
  },
  {
   "cell_type": "code",
   "execution_count": 21,
   "metadata": {},
   "outputs": [
    {
     "data": {
      "text/plain": [
       "tensor(83.0023)"
      ]
     },
     "execution_count": 21,
     "metadata": {},
     "output_type": "execute_result"
    }
   ],
   "source": [
    "a = pt.tensor([1.0, -2.0, 3.0])\n",
    "b = pt.tensor([-4.0, 5.0, 6.0])\n",
    "c = pt.norm(pt.cross(a, b))/(pt.norm(a)*pt.norm(b)) \n",
    "angle = pt.rad2deg(pt.asin(c)) # angle in degrees\n",
    "angle"
   ]
  },
  {
   "cell_type": "markdown",
   "metadata": {},
   "source": [
    "4)The length of cross product ($\\mathbf {a} \\times \\mathbf {b} $) equals the area of the parallelogram with sides $\\mathbf {a}$ and $\\mathbf {b}$. \n",
    "$${\\displaystyle|\\mathbf {a} \\times \\mathbf {b} |=|\\mathbf {a} ||\\mathbf {b} ||\\sin \\varphi |.}$$<br />\n",
    "example:the cross product of$\\text{ }$$\\mathbf {a} = (1,1,1),\\mathbf {b} = (1,1,2)$ $\\text{}$is $\\mathbf {a} = (1,-1,0)$<br />\n",
    "${\\displaystyle \\mathbf {a\\times b} ={\\begin{vmatrix}  \\mathbf i& \\mathbf j& \\mathbf k \\\\1&1&1\\\\1&1&2\\\\\\end{vmatrix}}}$\n",
    "${\\displaystyle {\\begin{aligned}={\\mathbf{i}\\begin{vmatrix}1&1\\\\1&2\\end{vmatrix}} -{\\mathbf{j}\\begin{vmatrix}1&1\\\\1&2\\end{vmatrix}} +{\\mathbf{k}\\begin{vmatrix}1&2\\\\1&1\\end{vmatrix}} =\\mathbf{i}- \\mathbf {j} \\end{aligned}}}$<br />\n",
    "the vector $(1,-1,0)$ is perpendicular to $(1,1,1)$ and $(1,1,2)$ predicted. Area = $\\sqrt{2}$\n"
   ]
  },
  {
   "cell_type": "code",
   "execution_count": 7,
   "metadata": {},
   "outputs": [
    {
     "data": {
      "text/plain": [
       "tensor(1.4142)"
      ]
     },
     "execution_count": 7,
     "metadata": {},
     "output_type": "execute_result"
    }
   ],
   "source": [
    "a = pt.tensor([1.0, 1.0, 1.0])\n",
    "b = pt.tensor([1.0, 1.0, 2.0])\n",
    "c = pt.norm(pt.cross(a, b))\n",
    "c"
   ]
  },
  {
   "cell_type": "markdown",
   "metadata": {},
   "source": [
    "### Outer product\n",
    "the outer product of two coordinate vectors is a matrix. If the two vectors have dimensions n and m, then their outer product is an n × m matrix.<br />\n",
    "$$(n \\times 1)(1 \\times m) = (n \\times m)$$\n",
    "Given two vectors\n",
    "$${\\displaystyle {\\begin{aligned}\\mathbf {a} &=\\left(a_{1},a_{2},\\dots ,a_{m}\\right)\\\\\\mathbf {b} &=\\left(b_{1},b_{2},\\dots ,b_{n}\\right)\\end{aligned}}}$$<br />\n",
    "their outer product, denoted a ⊗ b, is defined as the m × n matrix C obtained by multiplying each element of a by each element of b:\n",
    "$${\\displaystyle \\mathbf {a} \\otimes \\mathbf {b} =\\mathbf {C} ={\\begin{bmatrix}a_{1}b_{1}&a_{1}b_{2}&\\dots &a_{1}b_{n}\\\\a_{2}b_{1}&a_{2}b_{2}&\\dots &a_{2}b_{n}\\\\\\vdots &\\vdots &\\ddots &\\vdots \\\\a_{m}b_{1}&a_{m}b_{2}&\\dots &a_{m}b_{n}\\end{bmatrix}}}$$<br />\n",
    "example:\n",
    "$\\begin{bmatrix}0 \\\\ 1 \\\\ 2 \\end{bmatrix}\\begin{bmatrix}1&2&3 \\end{bmatrix}=\\begin{bmatrix}0&0&0\\\\1&2&3 \\\\2&4&6\\end{bmatrix}\\,$\n",
    "\n"
   ]
  },
  {
   "cell_type": "code",
   "execution_count": 56,
   "metadata": {},
   "outputs": [
    {
     "data": {
      "text/plain": [
       "tensor([[0, 0, 0],\n",
       "        [1, 2, 3],\n",
       "        [2, 4, 6]])"
      ]
     },
     "execution_count": 56,
     "metadata": {},
     "output_type": "execute_result"
    }
   ],
   "source": [
    "a = pt.tensor([[0, 1, 2]]).view(3, 1)\n",
    "b = pt.tensor([1,2,3]).view(1, 3)\n",
    "c = pt.mm(a, b)\n",
    "c\n"
   ]
  },
  {
   "cell_type": "markdown",
   "metadata": {},
   "source": [
    "### Matrix multiplication"
   ]
  },
  {
   "cell_type": "markdown",
   "metadata": {},
   "source": [
    " The product $\\mathbf {C}$ of two matrices $\\mathbf{A}$ and $\\mathbf{B}$ is defined as:\n",
    "$$ C_{ik}=A_{ij}B_{jk} $$<br />\n",
    " in order for matrix multiplication to be defined, the dimensions of the matrices must satisfy\n",
    " $$\n",
    " (n×m)(m×p)=(n×p), $$\n",
    " where (a×b) denotes a matrix with a rows and b columns. Writing out the product explicitly,\n",
    " $${\\displaystyle {\\begin{pmatrix}c_{11}&c_{12}&\\cdots &c_{1p}\\\\c_{21}&c_{22}&\\cdots &c_{2p}\\\\\\vdots &\\vdots &\\ddots &\\vdots \\\\c_{m1}&c_{m2}&\\cdots &c_{mp}\\\\\\end{pmatrix}}}={\\displaystyle {\\begin{pmatrix}a_{11}&a_{12}&\\cdots &a_{1n}\\\\a_{21}&a_{22}&\\cdots &a_{2n}\\\\\\vdots &\\vdots &\\ddots &\\vdots \\\\a_{m1}&a_{m2}&\\cdots &a_{mn}\\\\\\end{pmatrix}}{\\begin{pmatrix}b_{11}&b_{12}&\\cdots &b_{1p}\\\\b_{21}&b_{22}&\\cdots &b_{2p}\\\\\\vdots &\\vdots &\\ddots &\\vdots \\\\b_{n1}&b_{n2}&\\cdots &b_{np}\\\\\\end{pmatrix}}} $$\n",
    " where<br />\n",
    " \n",
    "\n",
    "$${\\displaystyle c_{ij}=a_{i1}b_{1j}+a_{i2}b_{2j}+\\cdots +a_{in}b_{nj}=\\sum _{k=1}^{n}a_{ik}b_{kj}}$$<br />\n",
    "example:\n",
    "${\\mathbf{A}}{\\mathbf{B}}=\\begin{pmatrix}0&1&2 \\\\ 3&4&5 \\\\ 6&7&8 \\end{pmatrix}\\begin{pmatrix}0&1&2 \\\\ 3&4&5 \\\\ 6&7&8 \\end{pmatrix}=\\begin{pmatrix}15&18&21\\\\42&54&66 \\\\69&90&111 \\end{pmatrix}$\n",
    "\n"
   ]
  },
  {
   "cell_type": "code",
   "execution_count": 29,
   "metadata": {},
   "outputs": [
    {
     "data": {
      "text/plain": [
       "tensor([[ 15,  18,  21],\n",
       "        [ 42,  54,  66],\n",
       "        [ 69,  90, 111]])"
      ]
     },
     "execution_count": 29,
     "metadata": {},
     "output_type": "execute_result"
    },
    {
     "data": {
      "image/png": "[encoded data removed]",
      "text/plain": [
       "<Figure size 480x480 with 1 Axes>"
      ]
     },
     "metadata": {
      "needs_background": "light"
     },
     "output_type": "display_data"
    }
   ],
   "source": [
    "A = pt.tensor(\n",
    "[\n",
    "    [0, 1, 2],\n",
    "    [3, 4, 5],\n",
    "    [6, 7, 8],\n",
    "])\n",
    "B = pt.tensor(\n",
    "[\n",
    "    [0, 1, 2],\n",
    "    [3, 4, 5],\n",
    "    [6, 7, 8],\n",
    "])\n",
    "C = pt.mm(A, B)\n",
    "vis.plot_matrix_as_heatmap(C, annotate=False)\n",
    "C"
   ]
  },
  {
   "cell_type": "markdown",
   "metadata": {},
   "source": [
    "### Identity matrix\n",
    "An identity matrix is a given square matrix of any order which contains on its main diagonal elements with value of one, while the rest of the matrix elements are equal to zero.\n",
    "$${\\displaystyle I_{1}={\\begin{bmatrix}1\\end{bmatrix}},\\ I_{2}={\\begin{bmatrix}1&0\\\\0&1\\end{bmatrix}},\\ I_{3}={\\begin{bmatrix}1&0&0\\\\0&1&0\\\\0&0&1\\end{bmatrix}},\\ \\cdots ,\\ I_{n}={\\begin{bmatrix}1&0&0&\\cdots &0\\\\0&1&0&\\cdots &0\\\\0&0&1&\\cdots &0\\\\\\vdots &\\vdots &\\vdots &\\ddots &\\vdots \\\\0&0&0&\\cdots &1\\end{bmatrix}}.}$$"
   ]
  },
  {
   "cell_type": "code",
   "execution_count": 17,
   "metadata": {},
   "outputs": [
    {
     "data": {
      "text/plain": [
       "tensor([[1., 0., 0., 0., 0.],\n",
       "        [0., 1., 0., 0., 0.],\n",
       "        [0., 0., 1., 0., 0.],\n",
       "        [0., 0., 0., 1., 0.],\n",
       "        [0., 0., 0., 0., 1.]])"
      ]
     },
     "execution_count": 17,
     "metadata": {},
     "output_type": "execute_result"
    },
    {
     "data": {
      "image/png": "[encoded data removed]",
      "text/plain": [
       "<Figure size 480x480 with 1 Axes>"
      ]
     },
     "metadata": {
      "needs_background": "light"
     },
     "output_type": "display_data"
    }
   ],
   "source": [
    "ones = pt.ones(5)\n",
    "identity = pt.diag(ones)\n",
    "identity\n",
    "vis.plot_matrix_as_heatmap(identity, annotate=False)\n",
    "identity"
   ]
  },
  {
   "cell_type": "markdown",
   "metadata": {},
   "source": [
    "### Symmetric matrix\n",
    "A symmetric matrix is a square matrix that is equal to its transpose.\n",
    "$${\\mathbf{A}{\\text{ is symmetric}}\\iff \\mathbf{A}=\\mathbf{A}^{\\textsf {T}}}$$<br />\n",
    "The entries of a symmetric matrix are symmetric with respect to the main diagonal. So if ${ a_{ij}}$ denotes the entry in the $i-{th}$ row and ${j-th}$ column then:\n",
    "$${\\mathbf{A}{\\text{ is symmetric}}\\iff {\\text{ for every }}i,j,\\quad \\mathbf{a}_{ji}=\\mathbf{a}_{ij}}$$<br />\n",
    "example:${\\begin{bmatrix}1&2&6\\\\2&3&4\\\\6&4&5\\end{bmatrix}}$\n"
   ]
  },
  {
   "cell_type": "code",
   "execution_count": 16,
   "metadata": {},
   "outputs": [
    {
     "data": {
      "text/plain": [
       "tensor([[1, 2, 6],\n",
       "        [2, 3, 4],\n",
       "        [6, 4, 5]])"
      ]
     },
     "execution_count": 16,
     "metadata": {},
     "output_type": "execute_result"
    },
    {
     "data": {
      "image/png": "[encoded data removed]",
      "text/plain": [
       "<Figure size 480x480 with 1 Axes>"
      ]
     },
     "metadata": {
      "needs_background": "light"
     },
     "output_type": "display_data"
    }
   ],
   "source": [
    "A = pt.tensor(\n",
    "[[1, 2, 6],\n",
    " [2, 3, 4],\n",
    " [6, 4, 5],])\n",
    "A_transpose = pt.transpose(A, 0, 1)\n",
    "vis.plot_matrix_as_heatmap(A, annotate=False)\n",
    "A_transpose"
   ]
  },
  {
   "cell_type": "markdown",
   "metadata": {},
   "source": [
    "### Orthogonal matrix\n"
   ]
  },
  {
   "cell_type": "code",
   "execution_count": null,
   "metadata": {},
   "outputs": [],
   "source": []
  },
  {
   "cell_type": "markdown",
   "metadata": {},
   "source": [
    "### Orthonormal matrix"
   ]
  },
  {
   "cell_type": "code",
   "execution_count": null,
   "metadata": {},
   "outputs": [],
   "source": []
  },
  {
   "cell_type": "markdown",
   "metadata": {},
   "source": [
    "### Unitary matrix"
   ]
  },
  {
   "cell_type": "code",
   "execution_count": null,
   "metadata": {},
   "outputs": [],
   "source": []
  },
  {
   "cell_type": "markdown",
   "metadata": {},
   "source": [
    "## Matrix decomposition\n",
    "### Eigen-decomposition"
   ]
  },
  {
   "cell_type": "code",
   "execution_count": null,
   "metadata": {},
   "outputs": [],
   "source": []
  },
  {
   "cell_type": "markdown",
   "metadata": {},
   "source": [
    "### Singular value decomposition"
   ]
  },
  {
   "cell_type": "code",
   "execution_count": null,
   "metadata": {},
   "outputs": [],
   "source": []
  }
 ],
 "metadata": {
  "kernelspec": {
   "display_name": "Python 3",
   "language": "python",
   "name": "python3"
  },
  "language_info": {
   "codemirror_mode": {
    "name": "ipython",
    "version": 3
   },
   "file_extension": ".py",
   "mimetype": "text/x-python",
   "name": "python",
   "nbconvert_exporter": "python",
   "pygments_lexer": "ipython3",
   "version": "3.8.5"
  }
 },
 "nbformat": 4,
 "nbformat_minor": 4
}
